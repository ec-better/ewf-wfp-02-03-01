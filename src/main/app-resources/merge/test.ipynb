{
 "cells": [
  {
   "cell_type": "code",
   "execution_count": null,
   "metadata": {},
   "outputs": [],
   "source": [
    "hdfs://sb-10-150-0-21.better.terradue.int:8020/ciop/run/ewf-wfp-02-03-01/0000025-190909171543351-oozie-oozi-W/tiling/data/tile_0_0.pickle"
   ]
  },
  {
   "cell_type": "code",
   "execution_count": 66,
   "metadata": {},
   "outputs": [],
   "source": [
    "base_url = 'hdfs://sb-10-150-0-21.better.terradue.int:8020/ciop/run/ewf-wfp-02-03-01/0000029-190909171543351-oozie-oozi-W/subtile/data/'\n",
    "\n",
    "references = []\n",
    "\n",
    "for tile in ['0_0', '0_1', '0_2', '0_3']:\n",
    "    \n",
    "    for prefix in ['ndvi', 'original_ndvi', 's']:\n",
    "        references.append('{}{}_tile_{}.pickle.tif'.format(base_url, prefix,tile))"
   ]
  },
  {
   "cell_type": "code",
   "execution_count": 67,
   "metadata": {},
   "outputs": [
    {
     "data": {
      "text/plain": [
       "['hdfs://sb-10-150-0-21.better.terradue.int:8020/ciop/run/ewf-wfp-02-03-01/0000029-190909171543351-oozie-oozi-W/subtile/data/ndvi_tile_0_0.pickle.tif',\n",
       " 'hdfs://sb-10-150-0-21.better.terradue.int:8020/ciop/run/ewf-wfp-02-03-01/0000029-190909171543351-oozie-oozi-W/subtile/data/original_ndvi_tile_0_0.pickle.tif',\n",
       " 'hdfs://sb-10-150-0-21.better.terradue.int:8020/ciop/run/ewf-wfp-02-03-01/0000029-190909171543351-oozie-oozi-W/subtile/data/s_tile_0_0.pickle.tif',\n",
       " 'hdfs://sb-10-150-0-21.better.terradue.int:8020/ciop/run/ewf-wfp-02-03-01/0000029-190909171543351-oozie-oozi-W/subtile/data/ndvi_tile_0_1.pickle.tif',\n",
       " 'hdfs://sb-10-150-0-21.better.terradue.int:8020/ciop/run/ewf-wfp-02-03-01/0000029-190909171543351-oozie-oozi-W/subtile/data/original_ndvi_tile_0_1.pickle.tif',\n",
       " 'hdfs://sb-10-150-0-21.better.terradue.int:8020/ciop/run/ewf-wfp-02-03-01/0000029-190909171543351-oozie-oozi-W/subtile/data/s_tile_0_1.pickle.tif',\n",
       " 'hdfs://sb-10-150-0-21.better.terradue.int:8020/ciop/run/ewf-wfp-02-03-01/0000029-190909171543351-oozie-oozi-W/subtile/data/ndvi_tile_0_2.pickle.tif',\n",
       " 'hdfs://sb-10-150-0-21.better.terradue.int:8020/ciop/run/ewf-wfp-02-03-01/0000029-190909171543351-oozie-oozi-W/subtile/data/original_ndvi_tile_0_2.pickle.tif',\n",
       " 'hdfs://sb-10-150-0-21.better.terradue.int:8020/ciop/run/ewf-wfp-02-03-01/0000029-190909171543351-oozie-oozi-W/subtile/data/s_tile_0_2.pickle.tif',\n",
       " 'hdfs://sb-10-150-0-21.better.terradue.int:8020/ciop/run/ewf-wfp-02-03-01/0000029-190909171543351-oozie-oozi-W/subtile/data/ndvi_tile_0_3.pickle.tif',\n",
       " 'hdfs://sb-10-150-0-21.better.terradue.int:8020/ciop/run/ewf-wfp-02-03-01/0000029-190909171543351-oozie-oozi-W/subtile/data/original_ndvi_tile_0_3.pickle.tif',\n",
       " 'hdfs://sb-10-150-0-21.better.terradue.int:8020/ciop/run/ewf-wfp-02-03-01/0000029-190909171543351-oozie-oozi-W/subtile/data/s_tile_0_3.pickle.tif']"
      ]
     },
     "execution_count": 67,
     "metadata": {},
     "output_type": "execute_result"
    }
   ],
   "source": [
    "references"
   ]
  },
  {
   "cell_type": "code",
   "execution_count": 94,
   "metadata": {},
   "outputs": [],
   "source": [
    "import pandas as pd\n",
    "import cioppy \n",
    "import os\n",
    "import shutil"
   ]
  },
  {
   "cell_type": "code",
   "execution_count": 69,
   "metadata": {},
   "outputs": [],
   "source": [
    "df_references = pd.DataFrame(references)"
   ]
  },
  {
   "cell_type": "code",
   "execution_count": 70,
   "metadata": {},
   "outputs": [],
   "source": [
    "df_references.columns = ['enclosure']"
   ]
  },
  {
   "cell_type": "code",
   "execution_count": 71,
   "metadata": {},
   "outputs": [
    {
     "data": {
      "text/html": [
       "<div>\n",
       "<style scoped>\n",
       "    .dataframe tbody tr th:only-of-type {\n",
       "        vertical-align: middle;\n",
       "    }\n",
       "\n",
       "    .dataframe tbody tr th {\n",
       "        vertical-align: top;\n",
       "    }\n",
       "\n",
       "    .dataframe thead th {\n",
       "        text-align: right;\n",
       "    }\n",
       "</style>\n",
       "<table border=\"1\" class=\"dataframe\">\n",
       "  <thead>\n",
       "    <tr style=\"text-align: right;\">\n",
       "      <th></th>\n",
       "      <th>enclosure</th>\n",
       "    </tr>\n",
       "  </thead>\n",
       "  <tbody>\n",
       "    <tr>\n",
       "      <th>0</th>\n",
       "      <td>hdfs://sb-10-150-0-21.better.terradue.int:8020...</td>\n",
       "    </tr>\n",
       "    <tr>\n",
       "      <th>1</th>\n",
       "      <td>hdfs://sb-10-150-0-21.better.terradue.int:8020...</td>\n",
       "    </tr>\n",
       "    <tr>\n",
       "      <th>2</th>\n",
       "      <td>hdfs://sb-10-150-0-21.better.terradue.int:8020...</td>\n",
       "    </tr>\n",
       "    <tr>\n",
       "      <th>3</th>\n",
       "      <td>hdfs://sb-10-150-0-21.better.terradue.int:8020...</td>\n",
       "    </tr>\n",
       "    <tr>\n",
       "      <th>4</th>\n",
       "      <td>hdfs://sb-10-150-0-21.better.terradue.int:8020...</td>\n",
       "    </tr>\n",
       "    <tr>\n",
       "      <th>5</th>\n",
       "      <td>hdfs://sb-10-150-0-21.better.terradue.int:8020...</td>\n",
       "    </tr>\n",
       "    <tr>\n",
       "      <th>6</th>\n",
       "      <td>hdfs://sb-10-150-0-21.better.terradue.int:8020...</td>\n",
       "    </tr>\n",
       "    <tr>\n",
       "      <th>7</th>\n",
       "      <td>hdfs://sb-10-150-0-21.better.terradue.int:8020...</td>\n",
       "    </tr>\n",
       "    <tr>\n",
       "      <th>8</th>\n",
       "      <td>hdfs://sb-10-150-0-21.better.terradue.int:8020...</td>\n",
       "    </tr>\n",
       "    <tr>\n",
       "      <th>9</th>\n",
       "      <td>hdfs://sb-10-150-0-21.better.terradue.int:8020...</td>\n",
       "    </tr>\n",
       "    <tr>\n",
       "      <th>10</th>\n",
       "      <td>hdfs://sb-10-150-0-21.better.terradue.int:8020...</td>\n",
       "    </tr>\n",
       "    <tr>\n",
       "      <th>11</th>\n",
       "      <td>hdfs://sb-10-150-0-21.better.terradue.int:8020...</td>\n",
       "    </tr>\n",
       "  </tbody>\n",
       "</table>\n",
       "</div>"
      ],
      "text/plain": [
       "                                            enclosure\n",
       "0   hdfs://sb-10-150-0-21.better.terradue.int:8020...\n",
       "1   hdfs://sb-10-150-0-21.better.terradue.int:8020...\n",
       "2   hdfs://sb-10-150-0-21.better.terradue.int:8020...\n",
       "3   hdfs://sb-10-150-0-21.better.terradue.int:8020...\n",
       "4   hdfs://sb-10-150-0-21.better.terradue.int:8020...\n",
       "5   hdfs://sb-10-150-0-21.better.terradue.int:8020...\n",
       "6   hdfs://sb-10-150-0-21.better.terradue.int:8020...\n",
       "7   hdfs://sb-10-150-0-21.better.terradue.int:8020...\n",
       "8   hdfs://sb-10-150-0-21.better.terradue.int:8020...\n",
       "9   hdfs://sb-10-150-0-21.better.terradue.int:8020...\n",
       "10  hdfs://sb-10-150-0-21.better.terradue.int:8020...\n",
       "11  hdfs://sb-10-150-0-21.better.terradue.int:8020..."
      ]
     },
     "execution_count": 71,
     "metadata": {},
     "output_type": "execute_result"
    }
   ],
   "source": [
    "df_references\n"
   ]
  },
  {
   "cell_type": "code",
   "execution_count": 72,
   "metadata": {},
   "outputs": [],
   "source": [
    "def analyse_row(row):\n",
    "    \n",
    "    series = dict()\n",
    "    \n",
    "    print row.enclosure\n",
    "    if 's_' in row.enclosure:\n",
    "        output_type = 's'\n",
    "    \n",
    "    elif 'original_ndvi' in row.enclosure:\n",
    "        output_type = 'original_ndvi'\n",
    "        \n",
    "    else: \n",
    "        output_type = 'ndvi'\n",
    "    print    output_type \n",
    "    series['output_type'] = output_type\n",
    "   \n",
    "    return pd.Series(series)"
   ]
  },
  {
   "cell_type": "code",
   "execution_count": 73,
   "metadata": {},
   "outputs": [
    {
     "name": "stdout",
     "output_type": "stream",
     "text": [
      "hdfs://sb-10-150-0-21.better.terradue.int:8020/ciop/run/ewf-wfp-02-03-01/0000029-190909171543351-oozie-oozi-W/subtile/data/ndvi_tile_0_0.pickle.tif\n",
      "ndvi\n",
      "hdfs://sb-10-150-0-21.better.terradue.int:8020/ciop/run/ewf-wfp-02-03-01/0000029-190909171543351-oozie-oozi-W/subtile/data/ndvi_tile_0_0.pickle.tif\n",
      "ndvi\n",
      "hdfs://sb-10-150-0-21.better.terradue.int:8020/ciop/run/ewf-wfp-02-03-01/0000029-190909171543351-oozie-oozi-W/subtile/data/original_ndvi_tile_0_0.pickle.tif\n",
      "original_ndvi\n",
      "hdfs://sb-10-150-0-21.better.terradue.int:8020/ciop/run/ewf-wfp-02-03-01/0000029-190909171543351-oozie-oozi-W/subtile/data/s_tile_0_0.pickle.tif\n",
      "s\n",
      "hdfs://sb-10-150-0-21.better.terradue.int:8020/ciop/run/ewf-wfp-02-03-01/0000029-190909171543351-oozie-oozi-W/subtile/data/ndvi_tile_0_1.pickle.tif\n",
      "ndvi\n",
      "hdfs://sb-10-150-0-21.better.terradue.int:8020/ciop/run/ewf-wfp-02-03-01/0000029-190909171543351-oozie-oozi-W/subtile/data/original_ndvi_tile_0_1.pickle.tif\n",
      "original_ndvi\n",
      "hdfs://sb-10-150-0-21.better.terradue.int:8020/ciop/run/ewf-wfp-02-03-01/0000029-190909171543351-oozie-oozi-W/subtile/data/s_tile_0_1.pickle.tif\n",
      "s\n",
      "hdfs://sb-10-150-0-21.better.terradue.int:8020/ciop/run/ewf-wfp-02-03-01/0000029-190909171543351-oozie-oozi-W/subtile/data/ndvi_tile_0_2.pickle.tif\n",
      "ndvi\n",
      "hdfs://sb-10-150-0-21.better.terradue.int:8020/ciop/run/ewf-wfp-02-03-01/0000029-190909171543351-oozie-oozi-W/subtile/data/original_ndvi_tile_0_2.pickle.tif\n",
      "original_ndvi\n",
      "hdfs://sb-10-150-0-21.better.terradue.int:8020/ciop/run/ewf-wfp-02-03-01/0000029-190909171543351-oozie-oozi-W/subtile/data/s_tile_0_2.pickle.tif\n",
      "s\n",
      "hdfs://sb-10-150-0-21.better.terradue.int:8020/ciop/run/ewf-wfp-02-03-01/0000029-190909171543351-oozie-oozi-W/subtile/data/ndvi_tile_0_3.pickle.tif\n",
      "ndvi\n",
      "hdfs://sb-10-150-0-21.better.terradue.int:8020/ciop/run/ewf-wfp-02-03-01/0000029-190909171543351-oozie-oozi-W/subtile/data/original_ndvi_tile_0_3.pickle.tif\n",
      "original_ndvi\n",
      "hdfs://sb-10-150-0-21.better.terradue.int:8020/ciop/run/ewf-wfp-02-03-01/0000029-190909171543351-oozie-oozi-W/subtile/data/s_tile_0_3.pickle.tif\n",
      "s\n"
     ]
    }
   ],
   "source": [
    "df_references = df_references.merge(df_references.apply(lambda row: analyse_row(row), axis=1), \n",
    "              left_index=True,\n",
    "              right_index=True)"
   ]
  },
  {
   "cell_type": "code",
   "execution_count": 74,
   "metadata": {},
   "outputs": [
    {
     "data": {
      "text/html": [
       "<div>\n",
       "<style scoped>\n",
       "    .dataframe tbody tr th:only-of-type {\n",
       "        vertical-align: middle;\n",
       "    }\n",
       "\n",
       "    .dataframe tbody tr th {\n",
       "        vertical-align: top;\n",
       "    }\n",
       "\n",
       "    .dataframe thead th {\n",
       "        text-align: right;\n",
       "    }\n",
       "</style>\n",
       "<table border=\"1\" class=\"dataframe\">\n",
       "  <thead>\n",
       "    <tr style=\"text-align: right;\">\n",
       "      <th></th>\n",
       "      <th>enclosure</th>\n",
       "      <th>output_type</th>\n",
       "    </tr>\n",
       "  </thead>\n",
       "  <tbody>\n",
       "    <tr>\n",
       "      <th>0</th>\n",
       "      <td>hdfs://sb-10-150-0-21.better.terradue.int:8020...</td>\n",
       "      <td>ndvi</td>\n",
       "    </tr>\n",
       "    <tr>\n",
       "      <th>1</th>\n",
       "      <td>hdfs://sb-10-150-0-21.better.terradue.int:8020...</td>\n",
       "      <td>original_ndvi</td>\n",
       "    </tr>\n",
       "    <tr>\n",
       "      <th>2</th>\n",
       "      <td>hdfs://sb-10-150-0-21.better.terradue.int:8020...</td>\n",
       "      <td>s</td>\n",
       "    </tr>\n",
       "    <tr>\n",
       "      <th>3</th>\n",
       "      <td>hdfs://sb-10-150-0-21.better.terradue.int:8020...</td>\n",
       "      <td>ndvi</td>\n",
       "    </tr>\n",
       "    <tr>\n",
       "      <th>4</th>\n",
       "      <td>hdfs://sb-10-150-0-21.better.terradue.int:8020...</td>\n",
       "      <td>original_ndvi</td>\n",
       "    </tr>\n",
       "    <tr>\n",
       "      <th>5</th>\n",
       "      <td>hdfs://sb-10-150-0-21.better.terradue.int:8020...</td>\n",
       "      <td>s</td>\n",
       "    </tr>\n",
       "    <tr>\n",
       "      <th>6</th>\n",
       "      <td>hdfs://sb-10-150-0-21.better.terradue.int:8020...</td>\n",
       "      <td>ndvi</td>\n",
       "    </tr>\n",
       "    <tr>\n",
       "      <th>7</th>\n",
       "      <td>hdfs://sb-10-150-0-21.better.terradue.int:8020...</td>\n",
       "      <td>original_ndvi</td>\n",
       "    </tr>\n",
       "    <tr>\n",
       "      <th>8</th>\n",
       "      <td>hdfs://sb-10-150-0-21.better.terradue.int:8020...</td>\n",
       "      <td>s</td>\n",
       "    </tr>\n",
       "    <tr>\n",
       "      <th>9</th>\n",
       "      <td>hdfs://sb-10-150-0-21.better.terradue.int:8020...</td>\n",
       "      <td>ndvi</td>\n",
       "    </tr>\n",
       "    <tr>\n",
       "      <th>10</th>\n",
       "      <td>hdfs://sb-10-150-0-21.better.terradue.int:8020...</td>\n",
       "      <td>original_ndvi</td>\n",
       "    </tr>\n",
       "    <tr>\n",
       "      <th>11</th>\n",
       "      <td>hdfs://sb-10-150-0-21.better.terradue.int:8020...</td>\n",
       "      <td>s</td>\n",
       "    </tr>\n",
       "  </tbody>\n",
       "</table>\n",
       "</div>"
      ],
      "text/plain": [
       "                                            enclosure    output_type\n",
       "0   hdfs://sb-10-150-0-21.better.terradue.int:8020...           ndvi\n",
       "1   hdfs://sb-10-150-0-21.better.terradue.int:8020...  original_ndvi\n",
       "2   hdfs://sb-10-150-0-21.better.terradue.int:8020...              s\n",
       "3   hdfs://sb-10-150-0-21.better.terradue.int:8020...           ndvi\n",
       "4   hdfs://sb-10-150-0-21.better.terradue.int:8020...  original_ndvi\n",
       "5   hdfs://sb-10-150-0-21.better.terradue.int:8020...              s\n",
       "6   hdfs://sb-10-150-0-21.better.terradue.int:8020...           ndvi\n",
       "7   hdfs://sb-10-150-0-21.better.terradue.int:8020...  original_ndvi\n",
       "8   hdfs://sb-10-150-0-21.better.terradue.int:8020...              s\n",
       "9   hdfs://sb-10-150-0-21.better.terradue.int:8020...           ndvi\n",
       "10  hdfs://sb-10-150-0-21.better.terradue.int:8020...  original_ndvi\n",
       "11  hdfs://sb-10-150-0-21.better.terradue.int:8020...              s"
      ]
     },
     "execution_count": 74,
     "metadata": {},
     "output_type": "execute_result"
    }
   ],
   "source": [
    "df_references"
   ]
  },
  {
   "cell_type": "code",
   "execution_count": 75,
   "metadata": {},
   "outputs": [
    {
     "data": {
      "text/html": [
       "<div>\n",
       "<style scoped>\n",
       "    .dataframe tbody tr th:only-of-type {\n",
       "        vertical-align: middle;\n",
       "    }\n",
       "\n",
       "    .dataframe tbody tr th {\n",
       "        vertical-align: top;\n",
       "    }\n",
       "\n",
       "    .dataframe thead th {\n",
       "        text-align: right;\n",
       "    }\n",
       "</style>\n",
       "<table border=\"1\" class=\"dataframe\">\n",
       "  <thead>\n",
       "    <tr style=\"text-align: right;\">\n",
       "      <th></th>\n",
       "      <th>enclosure</th>\n",
       "      <th>output_type</th>\n",
       "    </tr>\n",
       "  </thead>\n",
       "  <tbody>\n",
       "    <tr>\n",
       "      <th>0</th>\n",
       "      <td>hdfs://sb-10-150-0-21.better.terradue.int:8020...</td>\n",
       "      <td>ndvi</td>\n",
       "    </tr>\n",
       "    <tr>\n",
       "      <th>3</th>\n",
       "      <td>hdfs://sb-10-150-0-21.better.terradue.int:8020...</td>\n",
       "      <td>ndvi</td>\n",
       "    </tr>\n",
       "    <tr>\n",
       "      <th>6</th>\n",
       "      <td>hdfs://sb-10-150-0-21.better.terradue.int:8020...</td>\n",
       "      <td>ndvi</td>\n",
       "    </tr>\n",
       "    <tr>\n",
       "      <th>9</th>\n",
       "      <td>hdfs://sb-10-150-0-21.better.terradue.int:8020...</td>\n",
       "      <td>ndvi</td>\n",
       "    </tr>\n",
       "  </tbody>\n",
       "</table>\n",
       "</div>"
      ],
      "text/plain": [
       "                                           enclosure output_type\n",
       "0  hdfs://sb-10-150-0-21.better.terradue.int:8020...        ndvi\n",
       "3  hdfs://sb-10-150-0-21.better.terradue.int:8020...        ndvi\n",
       "6  hdfs://sb-10-150-0-21.better.terradue.int:8020...        ndvi\n",
       "9  hdfs://sb-10-150-0-21.better.terradue.int:8020...        ndvi"
      ]
     },
     "execution_count": 75,
     "metadata": {},
     "output_type": "execute_result"
    }
   ],
   "source": [
    "df_references[df_references.output_type == 'ndvi']"
   ]
  },
  {
   "cell_type": "code",
   "execution_count": 76,
   "metadata": {},
   "outputs": [],
   "source": [
    "ciop = cioppy.Cioppy()"
   ]
  },
  {
   "cell_type": "code",
   "execution_count": 107,
   "metadata": {},
   "outputs": [
    {
     "name": "stdout",
     "output_type": "stream",
     "text": [
      "ndvi\n",
      "hdfs://sb-10-150-0-21.better.terradue.int:8020/ciop/run/ewf-wfp-02-03-01/0000029-190909171543351-oozie-oozi-W/subtile/data/ndvi_tile_0_0.pickle.tif\n",
      "ndvi\n",
      "hdfs://sb-10-150-0-21.better.terradue.int:8020/ciop/run/ewf-wfp-02-03-01/0000029-190909171543351-oozie-oozi-W/subtile/data/ndvi_tile_0_1.pickle.tif\n",
      "ndvi\n",
      "hdfs://sb-10-150-0-21.better.terradue.int:8020/ciop/run/ewf-wfp-02-03-01/0000029-190909171543351-oozie-oozi-W/subtile/data/ndvi_tile_0_2.pickle.tif\n",
      "ndvi\n",
      "hdfs://sb-10-150-0-21.better.terradue.int:8020/ciop/run/ewf-wfp-02-03-01/0000029-190909171543351-oozie-oozi-W/subtile/data/ndvi_tile_0_3.pickle.tif\n",
      "original_ndvi\n",
      "hdfs://sb-10-150-0-21.better.terradue.int:8020/ciop/run/ewf-wfp-02-03-01/0000029-190909171543351-oozie-oozi-W/subtile/data/original_ndvi_tile_0_0.pickle.tif\n",
      "original_ndvi\n",
      "hdfs://sb-10-150-0-21.better.terradue.int:8020/ciop/run/ewf-wfp-02-03-01/0000029-190909171543351-oozie-oozi-W/subtile/data/original_ndvi_tile_0_1.pickle.tif\n",
      "original_ndvi\n",
      "hdfs://sb-10-150-0-21.better.terradue.int:8020/ciop/run/ewf-wfp-02-03-01/0000029-190909171543351-oozie-oozi-W/subtile/data/original_ndvi_tile_0_2.pickle.tif\n",
      "original_ndvi\n",
      "hdfs://sb-10-150-0-21.better.terradue.int:8020/ciop/run/ewf-wfp-02-03-01/0000029-190909171543351-oozie-oozi-W/subtile/data/original_ndvi_tile_0_3.pickle.tif\n",
      "s\n",
      "hdfs://sb-10-150-0-21.better.terradue.int:8020/ciop/run/ewf-wfp-02-03-01/0000029-190909171543351-oozie-oozi-W/subtile/data/s_tile_0_0.pickle.tif\n",
      "s\n",
      "hdfs://sb-10-150-0-21.better.terradue.int:8020/ciop/run/ewf-wfp-02-03-01/0000029-190909171543351-oozie-oozi-W/subtile/data/s_tile_0_1.pickle.tif\n",
      "s\n",
      "hdfs://sb-10-150-0-21.better.terradue.int:8020/ciop/run/ewf-wfp-02-03-01/0000029-190909171543351-oozie-oozi-W/subtile/data/s_tile_0_2.pickle.tif\n",
      "s\n",
      "hdfs://sb-10-150-0-21.better.terradue.int:8020/ciop/run/ewf-wfp-02-03-01/0000029-190909171543351-oozie-oozi-W/subtile/data/s_tile_0_3.pickle.tif\n"
     ]
    }
   ],
   "source": [
    "results = {}\n",
    "\n",
    "for output_type in df_references.output_type.unique():\n",
    "    \n",
    "    local_paths = [] \n",
    "\n",
    "    \n",
    "    for entry, row in df_references[df_references.output_type == output_type].iterrows():\n",
    "        print row.output_type\n",
    "        print row.enclosure\n",
    "        local_paths.append(ciop.copy(row.enclosure, '.'))\n",
    "        \n",
    "    local_vrt = 'temp_vrt.xml'\n",
    "\n",
    "    ds = gdal.BuildVRT(local_vrt, local_paths)\n",
    "\n",
    "    ds.FlushCache()\n",
    "    \n",
    "    translated_tif = '{}.tif'.format(output_type)\n",
    "    \n",
    "    gdal.Translate(translated_tif,\n",
    "                       local_vrt)\n",
    "    \n",
    "      \n",
    "    src_ds = gdal.Open(local_paths[0])\n",
    "    ds = gdal.Open(translated_tif,  gdal.OF_UPDATE)\n",
    "\n",
    "    bands = []\n",
    "\n",
    "    for index in range(src_ds.RasterCount):\n",
    "       \n",
    "        bands.append(src_ds.GetRasterBand(index+1).GetDescription())\n",
    "        ds.GetRasterBand(index+1).SetDescription(src_ds.GetRasterBand(index+1).GetDescription())\n",
    "\n",
    "    ds.FlushCache()\n",
    "    \n",
    "    for file in (local_paths + [local_vrt]):\n",
    "        \n",
    "        os.remove(file)\n",
    "    \n",
    "    if bands[0] == '':\n",
    "        results[output_type] = {'file': translated_tif}\n",
    "    else:                                                           \n",
    "        shutil.move(translated_tif, '{}_{}_{}.tif'.format(output_type, bands[0], bands[-1]))\n",
    "    \n",
    "        results[output_type] = {'file': '{}_{}_{}.tif'.format(output_type, bands[0], bands[-1]),\n",
    "                           'min_julian': bands[0],\n",
    "                           'max_julian': bands[-1]}"
   ]
  },
  {
   "cell_type": "code",
   "execution_count": 108,
   "metadata": {},
   "outputs": [
    {
     "data": {
      "text/plain": [
       "{'ndvi': {'file': 'ndvi_2019045_2019150.tif',\n",
       "  'max_julian': '2019150',\n",
       "  'min_julian': '2019045'},\n",
       " 'original_ndvi': {'file': 'original_ndvi_2019045_2019150.tif',\n",
       "  'max_julian': '2019150',\n",
       "  'min_julian': '2019045'},\n",
       " 's': {'file': 's.tif'}}"
      ]
     },
     "execution_count": 108,
     "metadata": {},
     "output_type": "execute_result"
    }
   ],
   "source": [
    "results"
   ]
  },
  {
   "cell_type": "code",
   "execution_count": 110,
   "metadata": {},
   "outputs": [
    {
     "data": {
      "text/plain": [
       "['original_ndvi', 'ndvi', 's']"
      ]
     },
     "execution_count": 110,
     "metadata": {},
     "output_type": "execute_result"
    }
   ],
   "source": [
    "results.keys()"
   ]
  },
  {
   "cell_type": "code",
   "execution_count": 135,
   "metadata": {},
   "outputs": [
    {
     "name": "stdout",
     "output_type": "stream",
     "text": [
      "(33.90938681579868, 8.847008570219304, 0.0)\n",
      "(33.95982770463, 9.04548676253447, 0.0)\n",
      "(33.90938681579868, 8.847008570219304, 0.0)\n",
      "(33.95982770463, 9.04548676253447, 0.0)\n",
      "(33.90938681579868, 8.847008570219304, 0.0)\n",
      "(33.95982770463, 9.04548676253447, 0.0)\n"
     ]
    }
   ],
   "source": [
    "for key in results.keys():\n",
    "    \n",
    "    if key == 'ndvi': title = 'Sentinel-2 Smoothed NDVI'\n",
    "    if key == 'original_ndvi': title = 'Sentinel-2 Original NDVI'\n",
    "    if key == 's': title = 'Sentinel-2 Smoothed NDVI s factor'\n",
    "    \n",
    "    with open(results[key]['file'].replace('.tif', '.properties'), 'wb') as file:\n",
    "        file.write('title={0}\\n'.format(title))\n",
    "        file.write('date={0}\\n'.format('/'.join([datetime.datetime.strptime(results['ndvi']['min_julian'], '%Y%j').date().strftime('%Y-%m-%dT00:00:00Z'),\n",
    "                                                datetime.datetime.strptime(results['ndvi']['max_julian'], '%Y%j').date().strftime('%Y-%m-%dT23:59:59Z')])))\n",
    "        file.write('geometry={0}'.format(get_raster_wkt(results['ndvi']['file'])))"
   ]
  },
  {
   "cell_type": "code",
   "execution_count": 118,
   "metadata": {},
   "outputs": [
    {
     "data": {
      "text/plain": [
       "'2019-05-30T23:59:59'"
      ]
     },
     "execution_count": 118,
     "metadata": {},
     "output_type": "execute_result"
    }
   ],
   "source": [
    "import datetime\n",
    "datetime.datetime.strptime(results['ndvi']['max_julian'], '%Y%j').date().strftime('%Y-%m-%dT23:59:59Z')\n",
    "#datetime.date(2016, 8, 21)"
   ]
  },
  {
   "cell_type": "code",
   "execution_count": null,
   "metadata": {},
   "outputs": [],
   "source": []
  },
  {
   "cell_type": "code",
   "execution_count": 92,
   "metadata": {},
   "outputs": [],
   "source": [
    "src_ds = gdal.Open('/workspace/ewf-wfp-02-03-01/src/main/app-resources/merge/./ndvi_tile_0_0.pickle.tif')\n",
    "ds = gdal.Open('ndvi.tif',  gdal.OF_UPDATE)\n",
    "\n",
    "bands = dict()\n",
    "\n",
    "for index in range(src_ds.RasterCount):\n",
    "\n",
    "    ds.GetRasterBand(index+1).SetDescription(src_ds.GetRasterBand(index+1).GetDescription())\n",
    "\n",
    "ds.FlushCache()"
   ]
  },
  {
   "cell_type": "code",
   "execution_count": 134,
   "metadata": {},
   "outputs": [],
   "source": [
    "def get_raster_wkt(raster):\n",
    "    src = gdal.Open(raster)\n",
    "    ulx, xres, xskew, uly, yskew, yres  = src.GetGeoTransform()\n",
    "    lrx = ulx + (src.RasterXSize * xres)\n",
    "    lry = uly + (src.RasterYSize * yres)\n",
    "\n",
    "    from osgeo import ogr\n",
    "    from osgeo import osr\n",
    "\n",
    "    # Setup the source projection - you can also import from epsg, proj4...\n",
    "    source = osr.SpatialReference()\n",
    "    source.ImportFromWkt(src.GetProjection())\n",
    "\n",
    "    # The target projection\n",
    "    target = osr.SpatialReference()\n",
    "    target.ImportFromEPSG(4326)\n",
    "\n",
    "    # Create the transform - this can be used repeatedly\n",
    "    transform = osr.CoordinateTransformation(source, target)\n",
    "\n",
    "    \n",
    "\n",
    "    return box(transform.TransformPoint(ulx, lry)[0], \n",
    "       transform.TransformPoint(ulx, lry)[1],\n",
    "       transform.TransformPoint(lrx, uly)[0],\n",
    "       transform.TransformPoint(lrx, uly)[1]).wkt\n"
   ]
  },
  {
   "cell_type": "code",
   "execution_count": 87,
   "metadata": {},
   "outputs": [
    {
     "data": {
      "text/plain": [
       "19"
      ]
     },
     "execution_count": 87,
     "metadata": {},
     "output_type": "execute_result"
    }
   ],
   "source": [
    "src_ds.RasterCount"
   ]
  },
  {
   "cell_type": "code",
   "execution_count": 127,
   "metadata": {},
   "outputs": [
    {
     "name": "stdout",
     "output_type": "stream",
     "text": [
      "[600000.0, 978060.0, 605490.0, 1000020.0]\n"
     ]
    }
   ],
   "source": [
    "geoTransform = src.GetGeoTransform()\n",
    "minx = geoTransform[0]\n",
    "maxy = geoTransform[3]\n",
    "maxx = minx + geoTransform[1] * src.RasterXSize\n",
    "miny = maxy + geoTransform[5] * src.RasterYSize\n",
    "print [minx, miny, maxx, maxy]\n",
    "data = None"
   ]
  },
  {
   "cell_type": "code",
   "execution_count": 90,
   "metadata": {},
   "outputs": [
    {
     "data": {
      "text/plain": [
       "{'2019045': 0,\n",
       " '2019050': 1,\n",
       " '2019055': 2,\n",
       " '2019070': 3,\n",
       " '2019075': 4,\n",
       " '2019080': 5,\n",
       " '2019085': 6,\n",
       " '2019090': 7,\n",
       " '2019095': 8,\n",
       " '2019100': 9,\n",
       " '2019105': 10,\n",
       " '2019110': 11,\n",
       " '2019115': 12,\n",
       " '2019120': 13,\n",
       " '2019125': 14,\n",
       " '2019130': 15,\n",
       " '2019135': 16,\n",
       " '2019140': 17,\n",
       " '2019150': 18}"
      ]
     },
     "execution_count": 90,
     "metadata": {},
     "output_type": "execute_result"
    }
   ],
   "source": [
    "bands"
   ]
  },
  {
   "cell_type": "code",
   "execution_count": null,
   "metadata": {},
   "outputs": [],
   "source": [
    "\n",
    "\n",
    "ds.GetRasterBand(index + 1).SetDescription(dates.values[index])\n",
    "\n",
    "        ds.FlushCache()"
   ]
  },
  {
   "cell_type": "code",
   "execution_count": null,
   "metadata": {},
   "outputs": [],
   "source": []
  },
  {
   "cell_type": "code",
   "execution_count": 56,
   "metadata": {},
   "outputs": [
    {
     "name": "stdout",
     "output_type": "stream",
     "text": [
      "/workspace/ewf-wfp-02-03-01/src/main/app-resources/merge/./ndvi_tile_0_0.pickle.tif\n",
      "/workspace/ewf-wfp-02-03-01/src/main/app-resources/merge/./ndvi_tile_0_1.pickle.tif\n",
      "/workspace/ewf-wfp-02-03-01/src/main/app-resources/merge/./ndvi_tile_0_2.pickle.tif\n",
      "/workspace/ewf-wfp-02-03-01/src/main/app-resources/merge/./ndvi_tile_0_3.pickle.tif\n",
      "temp_vrt.xml\n"
     ]
    }
   ],
   "source": [
    "for file in (local_paths + [local_vrt]):\n",
    "    \n",
    "    print file"
   ]
  },
  {
   "cell_type": "code",
   "execution_count": 46,
   "metadata": {},
   "outputs": [
    {
     "name": "stdout",
     "output_type": "stream",
     "text": [
      "ndvi\n",
      "hdfs://sb-10-150-0-21.better.terradue.int:8020/ciop/run/ewf-wfp-02-03-01/0000025-190909171543351-oozie-oozi-W/subtile/data/ndvi_tile_0_0.pickle.tif\n",
      "ndvi\n",
      "hdfs://sb-10-150-0-21.better.terradue.int:8020/ciop/run/ewf-wfp-02-03-01/0000025-190909171543351-oozie-oozi-W/subtile/data/ndvi_tile_0_1.pickle.tif\n",
      "ndvi\n",
      "hdfs://sb-10-150-0-21.better.terradue.int:8020/ciop/run/ewf-wfp-02-03-01/0000025-190909171543351-oozie-oozi-W/subtile/data/ndvi_tile_0_2.pickle.tif\n",
      "ndvi\n",
      "hdfs://sb-10-150-0-21.better.terradue.int:8020/ciop/run/ewf-wfp-02-03-01/0000025-190909171543351-oozie-oozi-W/subtile/data/ndvi_tile_0_3.pickle.tif\n"
     ]
    }
   ],
   "source": [
    "\n",
    "\n",
    "\n",
    "local_paths = [] \n",
    "\n",
    "for entry, row in df_references[df_references.output_type == 'ndvi'].iterrows():\n",
    "    print row.output_type\n",
    "    print row.enclosure\n",
    "    local_paths.append(ciop.copy(row.enclosure, '.'))"
   ]
  },
  {
   "cell_type": "code",
   "execution_count": 47,
   "metadata": {},
   "outputs": [
    {
     "data": {
      "text/plain": [
       "['/workspace/ewf-wfp-02-03-01/src/main/app-resources/merge/./ndvi_tile_0_0.pickle.tif',\n",
       " '/workspace/ewf-wfp-02-03-01/src/main/app-resources/merge/./ndvi_tile_0_1.pickle.tif',\n",
       " '/workspace/ewf-wfp-02-03-01/src/main/app-resources/merge/./ndvi_tile_0_2.pickle.tif',\n",
       " '/workspace/ewf-wfp-02-03-01/src/main/app-resources/merge/./ndvi_tile_0_3.pickle.tif']"
      ]
     },
     "execution_count": 47,
     "metadata": {},
     "output_type": "execute_result"
    }
   ],
   "source": [
    "local_paths"
   ]
  },
  {
   "cell_type": "code",
   "execution_count": 49,
   "metadata": {},
   "outputs": [],
   "source": [
    "import gdal"
   ]
  },
  {
   "cell_type": "code",
   "execution_count": 51,
   "metadata": {},
   "outputs": [],
   "source": [
    "local_vrt = 'temp_vrt.xml'\n",
    "\n",
    "ds = gdal.BuildVRT(local_vrt, local_paths)\n",
    "\n",
    "ds.FlushCache()\n"
   ]
  },
  {
   "cell_type": "code",
   "execution_count": 53,
   "metadata": {},
   "outputs": [],
   "source": [
    "translated_tif = 's_ndvi.tif'"
   ]
  },
  {
   "cell_type": "code",
   "execution_count": 54,
   "metadata": {},
   "outputs": [
    {
     "data": {
      "text/plain": [
       "<osgeo.gdal.Dataset; proxy of <Swig Object of type 'GDALDatasetShadow *' at 0x7f8aac830c30> >"
      ]
     },
     "execution_count": 54,
     "metadata": {},
     "output_type": "execute_result"
    }
   ],
   "source": [
    "gdal.Translate(translated_tif,\n",
    "                       local_vrt)\n"
   ]
  },
  {
   "cell_type": "code",
   "execution_count": 64,
   "metadata": {},
   "outputs": [
    {
     "name": "stdout",
     "output_type": "stream",
     "text": [
      "0\n",
      "1\n",
      "2\n"
     ]
    }
   ],
   "source": [
    "for index, row in df_references.iterrows():\n",
    "    \n",
    "   \n",
    "    if index >=3:\n",
    "        \n",
    "        \n",
    "        continue\n",
    "        \n",
    "    else:\n",
    "        print index"
   ]
  },
  {
   "cell_type": "code",
   "execution_count": null,
   "metadata": {},
   "outputs": [],
   "source": []
  }
 ],
 "metadata": {
  "kernelspec": {
   "display_name": "Python 2",
   "language": "python",
   "name": "python2"
  },
  "language_info": {
   "codemirror_mode": {
    "name": "ipython",
    "version": 2
   },
   "file_extension": ".py",
   "mimetype": "text/x-python",
   "name": "python",
   "nbconvert_exporter": "python",
   "pygments_lexer": "ipython2",
   "version": "2.7.12"
  }
 },
 "nbformat": 4,
 "nbformat_minor": 2
}
