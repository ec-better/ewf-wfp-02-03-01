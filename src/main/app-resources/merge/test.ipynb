{
 "cells": [
  {
   "cell_type": "code",
   "execution_count": 67,
   "metadata": {},
   "outputs": [],
   "source": [
    "from shapely.geometry import box"
   ]
  },
  {
   "cell_type": "code",
   "execution_count": 64,
   "metadata": {},
   "outputs": [],
   "source": [
    "def get_raster_wkt(raster):\n",
    "    \n",
    "    src = gdal.Open(raster)\n",
    "    ulx, xres, xskew, uly, yskew, yres  = src.GetGeoTransform()\n",
    "    lrx = ulx + (src.RasterXSize * xres)\n",
    "    lry = uly + (src.RasterYSize * yres)\n",
    "\n",
    "    from osgeo import ogr\n",
    "    from osgeo import osr\n",
    "\n",
    "    # Setup the source projection - you can also import from epsg, proj4...\n",
    "    source = osr.SpatialReference()\n",
    "    source.ImportFromWkt(src.GetProjection())\n",
    "\n",
    "    # The target projection\n",
    "    target = osr.SpatialReference()\n",
    "    target.ImportFromEPSG(4326)\n",
    "\n",
    "    # Create the transform - this can be used repeatedly\n",
    "    transform = osr.CoordinateTransformation(source, target)\n",
    "\n",
    "    return box(transform.TransformPoint(ulx, lry)[0], \n",
    "       transform.TransformPoint(ulx, lry)[1],\n",
    "       transform.TransformPoint(lrx, uly)[0],\n",
    "       transform.TransformPoint(lrx, uly)[1]).wkt\n"
   ]
  },
  {
   "cell_type": "code",
   "execution_count": 147,
   "metadata": {},
   "outputs": [],
   "source": [
    "base_url = 'hdfs://sb-10-150-0-21.better.terradue.int:8020/ciop/run/ewf-wfp-02-03-01/0000002-191101000012551-oozie-oozi-W/subtile/data/'\n",
    "band_to_process = 'B01'\n",
    "references = []\n",
    "\n",
    "for tile in ['0_0', '0_1']:\n",
    "    \n",
    "    for prefix in [band_to_process, 'original_{}'.format(band_to_process), 's_{}'.format(band_to_process)]:\n",
    "        \n",
    "        references.append('{}{}_tile_{}_T36PXQ.pickle.tif'.format(base_url, prefix, tile))"
   ]
  },
  {
   "cell_type": "code",
   "execution_count": 148,
   "metadata": {},
   "outputs": [
    {
     "data": {
      "text/plain": [
       "['hdfs://sb-10-150-0-21.better.terradue.int:8020/ciop/run/ewf-wfp-02-03-01/0000002-191101000012551-oozie-oozi-W/subtile/data/B01_tile_0_0_T36PXQ.pickle.tif',\n",
       " 'hdfs://sb-10-150-0-21.better.terradue.int:8020/ciop/run/ewf-wfp-02-03-01/0000002-191101000012551-oozie-oozi-W/subtile/data/original_B01_tile_0_0_T36PXQ.pickle.tif',\n",
       " 'hdfs://sb-10-150-0-21.better.terradue.int:8020/ciop/run/ewf-wfp-02-03-01/0000002-191101000012551-oozie-oozi-W/subtile/data/s_B01_tile_0_0_T36PXQ.pickle.tif',\n",
       " 'hdfs://sb-10-150-0-21.better.terradue.int:8020/ciop/run/ewf-wfp-02-03-01/0000002-191101000012551-oozie-oozi-W/subtile/data/B01_tile_0_1_T36PXQ.pickle.tif',\n",
       " 'hdfs://sb-10-150-0-21.better.terradue.int:8020/ciop/run/ewf-wfp-02-03-01/0000002-191101000012551-oozie-oozi-W/subtile/data/original_B01_tile_0_1_T36PXQ.pickle.tif',\n",
       " 'hdfs://sb-10-150-0-21.better.terradue.int:8020/ciop/run/ewf-wfp-02-03-01/0000002-191101000012551-oozie-oozi-W/subtile/data/s_B01_tile_0_1_T36PXQ.pickle.tif']"
      ]
     },
     "execution_count": 148,
     "metadata": {},
     "output_type": "execute_result"
    }
   ],
   "source": [
    "references"
   ]
  },
  {
   "cell_type": "code",
   "execution_count": 153,
   "metadata": {},
   "outputs": [
    {
     "data": {
      "text/plain": [
       "'T36PXQ'"
      ]
     },
     "execution_count": 153,
     "metadata": {},
     "output_type": "execute_result"
    }
   ],
   "source": [
    "os.path.basename(references[0]).split('_')[-1].split('.')[0]"
   ]
  },
  {
   "cell_type": "code",
   "execution_count": 133,
   "metadata": {},
   "outputs": [],
   "source": [
    "import pandas as pd\n",
    "import cioppy \n",
    "import os\n",
    "import shutil\n",
    "import gdal\n",
    "import lxml.etree as etree\n",
    "import numpy as np\n",
    "from shapely.wkt import loads\n"
   ]
  },
  {
   "cell_type": "code",
   "execution_count": 154,
   "metadata": {},
   "outputs": [],
   "source": [
    "df_references = pd.DataFrame(references)"
   ]
  },
  {
   "cell_type": "code",
   "execution_count": 155,
   "metadata": {},
   "outputs": [],
   "source": [
    "df_references.columns = ['enclosure']"
   ]
  },
  {
   "cell_type": "code",
   "execution_count": 156,
   "metadata": {},
   "outputs": [
    {
     "data": {
      "text/html": [
       "<div>\n",
       "<style scoped>\n",
       "    .dataframe tbody tr th:only-of-type {\n",
       "        vertical-align: middle;\n",
       "    }\n",
       "\n",
       "    .dataframe tbody tr th {\n",
       "        vertical-align: top;\n",
       "    }\n",
       "\n",
       "    .dataframe thead th {\n",
       "        text-align: right;\n",
       "    }\n",
       "</style>\n",
       "<table border=\"1\" class=\"dataframe\">\n",
       "  <thead>\n",
       "    <tr style=\"text-align: right;\">\n",
       "      <th></th>\n",
       "      <th>enclosure</th>\n",
       "    </tr>\n",
       "  </thead>\n",
       "  <tbody>\n",
       "    <tr>\n",
       "      <th>0</th>\n",
       "      <td>hdfs://sb-10-150-0-21.better.terradue.int:8020...</td>\n",
       "    </tr>\n",
       "    <tr>\n",
       "      <th>1</th>\n",
       "      <td>hdfs://sb-10-150-0-21.better.terradue.int:8020...</td>\n",
       "    </tr>\n",
       "    <tr>\n",
       "      <th>2</th>\n",
       "      <td>hdfs://sb-10-150-0-21.better.terradue.int:8020...</td>\n",
       "    </tr>\n",
       "    <tr>\n",
       "      <th>3</th>\n",
       "      <td>hdfs://sb-10-150-0-21.better.terradue.int:8020...</td>\n",
       "    </tr>\n",
       "    <tr>\n",
       "      <th>4</th>\n",
       "      <td>hdfs://sb-10-150-0-21.better.terradue.int:8020...</td>\n",
       "    </tr>\n",
       "    <tr>\n",
       "      <th>5</th>\n",
       "      <td>hdfs://sb-10-150-0-21.better.terradue.int:8020...</td>\n",
       "    </tr>\n",
       "  </tbody>\n",
       "</table>\n",
       "</div>"
      ],
      "text/plain": [
       "                                           enclosure\n",
       "0  hdfs://sb-10-150-0-21.better.terradue.int:8020...\n",
       "1  hdfs://sb-10-150-0-21.better.terradue.int:8020...\n",
       "2  hdfs://sb-10-150-0-21.better.terradue.int:8020...\n",
       "3  hdfs://sb-10-150-0-21.better.terradue.int:8020...\n",
       "4  hdfs://sb-10-150-0-21.better.terradue.int:8020...\n",
       "5  hdfs://sb-10-150-0-21.better.terradue.int:8020..."
      ]
     },
     "execution_count": 156,
     "metadata": {},
     "output_type": "execute_result"
    }
   ],
   "source": [
    "df_references\n"
   ]
  },
  {
   "cell_type": "code",
   "execution_count": 157,
   "metadata": {},
   "outputs": [],
   "source": [
    "def analyse_merge_row(row, band_to_process):\n",
    "    \n",
    "    series = dict()\n",
    "\n",
    "    if 's_' in row.enclosure:\n",
    "        output_type = 's'\n",
    "    \n",
    "    elif 'original_{}'.format(band_to_process) in row.enclosure:\n",
    "        output_type = 'original_{}'.format(band_to_process)\n",
    "        \n",
    "    else: \n",
    "        output_type = band_to_process\n",
    "\n",
    "    series['output_type'] = output_type\n",
    "    series['tile'] = os.path.basename(row.enclosure).split('_')[-1].split('.')[0]\n",
    "    return pd.Series(series)    \n"
   ]
  },
  {
   "cell_type": "code",
   "execution_count": 158,
   "metadata": {},
   "outputs": [],
   "source": [
    "df_references = df_references.merge(df_references.apply(lambda row: analyse_merge_row(row, band_to_process), axis=1), \n",
    "              left_index=True,\n",
    "              right_index=True)"
   ]
  },
  {
   "cell_type": "code",
   "execution_count": 159,
   "metadata": {},
   "outputs": [
    {
     "data": {
      "text/html": [
       "<div>\n",
       "<style scoped>\n",
       "    .dataframe tbody tr th:only-of-type {\n",
       "        vertical-align: middle;\n",
       "    }\n",
       "\n",
       "    .dataframe tbody tr th {\n",
       "        vertical-align: top;\n",
       "    }\n",
       "\n",
       "    .dataframe thead th {\n",
       "        text-align: right;\n",
       "    }\n",
       "</style>\n",
       "<table border=\"1\" class=\"dataframe\">\n",
       "  <thead>\n",
       "    <tr style=\"text-align: right;\">\n",
       "      <th></th>\n",
       "      <th>enclosure</th>\n",
       "      <th>output_type</th>\n",
       "      <th>tile</th>\n",
       "    </tr>\n",
       "  </thead>\n",
       "  <tbody>\n",
       "    <tr>\n",
       "      <th>0</th>\n",
       "      <td>hdfs://sb-10-150-0-21.better.terradue.int:8020...</td>\n",
       "      <td>B01</td>\n",
       "      <td>T36PXQ</td>\n",
       "    </tr>\n",
       "    <tr>\n",
       "      <th>1</th>\n",
       "      <td>hdfs://sb-10-150-0-21.better.terradue.int:8020...</td>\n",
       "      <td>original_B01</td>\n",
       "      <td>T36PXQ</td>\n",
       "    </tr>\n",
       "    <tr>\n",
       "      <th>2</th>\n",
       "      <td>hdfs://sb-10-150-0-21.better.terradue.int:8020...</td>\n",
       "      <td>s</td>\n",
       "      <td>T36PXQ</td>\n",
       "    </tr>\n",
       "    <tr>\n",
       "      <th>3</th>\n",
       "      <td>hdfs://sb-10-150-0-21.better.terradue.int:8020...</td>\n",
       "      <td>B01</td>\n",
       "      <td>T36PXQ</td>\n",
       "    </tr>\n",
       "    <tr>\n",
       "      <th>4</th>\n",
       "      <td>hdfs://sb-10-150-0-21.better.terradue.int:8020...</td>\n",
       "      <td>original_B01</td>\n",
       "      <td>T36PXQ</td>\n",
       "    </tr>\n",
       "    <tr>\n",
       "      <th>5</th>\n",
       "      <td>hdfs://sb-10-150-0-21.better.terradue.int:8020...</td>\n",
       "      <td>s</td>\n",
       "      <td>T36PXQ</td>\n",
       "    </tr>\n",
       "  </tbody>\n",
       "</table>\n",
       "</div>"
      ],
      "text/plain": [
       "                                           enclosure   output_type    tile\n",
       "0  hdfs://sb-10-150-0-21.better.terradue.int:8020...           B01  T36PXQ\n",
       "1  hdfs://sb-10-150-0-21.better.terradue.int:8020...  original_B01  T36PXQ\n",
       "2  hdfs://sb-10-150-0-21.better.terradue.int:8020...             s  T36PXQ\n",
       "3  hdfs://sb-10-150-0-21.better.terradue.int:8020...           B01  T36PXQ\n",
       "4  hdfs://sb-10-150-0-21.better.terradue.int:8020...  original_B01  T36PXQ\n",
       "5  hdfs://sb-10-150-0-21.better.terradue.int:8020...             s  T36PXQ"
      ]
     },
     "execution_count": 159,
     "metadata": {},
     "output_type": "execute_result"
    }
   ],
   "source": [
    "df_references"
   ]
  },
  {
   "cell_type": "code",
   "execution_count": 160,
   "metadata": {},
   "outputs": [
    {
     "data": {
      "text/html": [
       "<div>\n",
       "<style scoped>\n",
       "    .dataframe tbody tr th:only-of-type {\n",
       "        vertical-align: middle;\n",
       "    }\n",
       "\n",
       "    .dataframe tbody tr th {\n",
       "        vertical-align: top;\n",
       "    }\n",
       "\n",
       "    .dataframe thead th {\n",
       "        text-align: right;\n",
       "    }\n",
       "</style>\n",
       "<table border=\"1\" class=\"dataframe\">\n",
       "  <thead>\n",
       "    <tr style=\"text-align: right;\">\n",
       "      <th></th>\n",
       "      <th>enclosure</th>\n",
       "      <th>output_type</th>\n",
       "      <th>tile</th>\n",
       "    </tr>\n",
       "  </thead>\n",
       "  <tbody>\n",
       "    <tr>\n",
       "      <th>0</th>\n",
       "      <td>hdfs://sb-10-150-0-21.better.terradue.int:8020...</td>\n",
       "      <td>B01</td>\n",
       "      <td>T36PXQ</td>\n",
       "    </tr>\n",
       "    <tr>\n",
       "      <th>3</th>\n",
       "      <td>hdfs://sb-10-150-0-21.better.terradue.int:8020...</td>\n",
       "      <td>B01</td>\n",
       "      <td>T36PXQ</td>\n",
       "    </tr>\n",
       "  </tbody>\n",
       "</table>\n",
       "</div>"
      ],
      "text/plain": [
       "                                           enclosure output_type    tile\n",
       "0  hdfs://sb-10-150-0-21.better.terradue.int:8020...         B01  T36PXQ\n",
       "3  hdfs://sb-10-150-0-21.better.terradue.int:8020...         B01  T36PXQ"
      ]
     },
     "execution_count": 160,
     "metadata": {},
     "output_type": "execute_result"
    }
   ],
   "source": [
    "df_references[df_references.output_type == band_to_process]"
   ]
  },
  {
   "cell_type": "code",
   "execution_count": 161,
   "metadata": {},
   "outputs": [],
   "source": [
    "ciop = cioppy.Cioppy()"
   ]
  },
  {
   "cell_type": "code",
   "execution_count": 162,
   "metadata": {},
   "outputs": [],
   "source": [
    "os.environ['HOME'] = '/home/fbrito'"
   ]
  },
  {
   "cell_type": "code",
   "execution_count": 164,
   "metadata": {},
   "outputs": [
    {
     "name": "stdout",
     "output_type": "stream",
     "text": [
      "B01\n",
      "hdfs://sb-10-150-0-21.better.terradue.int:8020/ciop/run/ewf-wfp-02-03-01/0000002-191101000012551-oozie-oozi-W/subtile/data/B01_tile_0_0_T36PXQ.pickle.tif\n",
      "hdfs://sb-10-150-0-21.better.terradue.int:8020/ciop/run/ewf-wfp-02-03-01/0000002-191101000012551-oozie-oozi-W/subtile/data/B01_tile_0_1_T36PXQ.pickle.tif\n",
      "original_B01\n",
      "hdfs://sb-10-150-0-21.better.terradue.int:8020/ciop/run/ewf-wfp-02-03-01/0000002-191101000012551-oozie-oozi-W/subtile/data/original_B01_tile_0_0_T36PXQ.pickle.tif\n",
      "hdfs://sb-10-150-0-21.better.terradue.int:8020/ciop/run/ewf-wfp-02-03-01/0000002-191101000012551-oozie-oozi-W/subtile/data/original_B01_tile_0_1_T36PXQ.pickle.tif\n",
      "s\n",
      "hdfs://sb-10-150-0-21.better.terradue.int:8020/ciop/run/ewf-wfp-02-03-01/0000002-191101000012551-oozie-oozi-W/subtile/data/s_B01_tile_0_0_T36PXQ.pickle.tif\n",
      "hdfs://sb-10-150-0-21.better.terradue.int:8020/ciop/run/ewf-wfp-02-03-01/0000002-191101000012551-oozie-oozi-W/subtile/data/s_B01_tile_0_1_T36PXQ.pickle.tif\n"
     ]
    }
   ],
   "source": [
    "results = {}\n",
    "tile = df_references.tile.unique()[0]\n",
    "for output_type in df_references.output_type.unique():\n",
    "    \n",
    "    print (output_type)\n",
    "    local_paths = [] \n",
    "\n",
    "    \n",
    "    for entry, row in df_references[df_references.output_type == output_type].iterrows():\n",
    "   \n",
    "        print row.enclosure\n",
    "        local_paths.append(ciop.copy(row.enclosure, '.'))\n",
    "        \n",
    "    local_vrt = '{}_temp_vrt.xml'.format(output_type)\n",
    "\n",
    "    ds = gdal.BuildVRT(local_vrt, local_paths)\n",
    "\n",
    "    ds.FlushCache()\n",
    "    \n",
    "    src_ds = gdal.Open(local_paths[0])\n",
    "    \n",
    "    # save individual bands\n",
    "    for index in range(src_ds.RasterCount):\n",
    "        \n",
    "        desc = src_ds.GetRasterBand(index+1).GetDescription()\n",
    "        meta = src_ds.GetRasterBand(index+1).GetMetadata()\n",
    "        \n",
    "        if desc == '':\n",
    "            #s\n",
    "            output_name = '{}_{}'.format(tile, output_type)\n",
    "            translated_tif = '{}.tif'.format(output_name)\n",
    "        else:\n",
    "            if 'band_is_interpolated' in meta.keys():\n",
    "                # interpolated\n",
    "                output_name = '{}_{}_{}_{}_{}'.format(tile,\n",
    "                                                      band_to_process,\n",
    "                                                    desc,\n",
    "                                                    meta['date'],\n",
    "                                                   'SYN' if meta['band_is_interpolated'] == 'True' else 'NAT')\n",
    "                \n",
    "                translated_tif = '{}.tif'.format(output_name)\n",
    "                \n",
    "                \n",
    "                    \n",
    "            else:\n",
    "                # original\n",
    "                output_name = '{}_{}_{}_{}_{}'.format(tile,\n",
    "                                                   band_to_process,\n",
    "                                                    desc,\n",
    "                                                    meta['date'],\n",
    "                                                   'ORI')\n",
    "                \n",
    "                translated_tif = '{}.tif'.format(output_name)\n",
    "        \n",
    "        gdal.Translate(translated_tif,\n",
    "                       local_vrt, \n",
    "                      bandList=[index+1])\n",
    "    \n",
    "        ds = gdal.Open(translated_tif,  gdal.OF_UPDATE)\n",
    "        ds.GetRasterBand(1).SetDescription(desc)\n",
    "        ds.GetRasterBand(1).SetMetadata(meta)\n",
    "        ds.FlushCache()\n",
    "        if desc == '':\n",
    "            \n",
    "            title = 'Sentinel-2 tile {} {} s factor'.format(tile, band_to_process)\n",
    "            \n",
    "        else:\n",
    "            prd_type = 'original' if not 'band_is_interpolated' in meta.keys() else 'synthetic' if meta['band_is_interpolated'] == 'True' else 'native'\n",
    "                \n",
    "            title = 'Sentinel-2 tile {} {} {} Julian day {}, date {}'.format(tile,\n",
    "                                                                          band_to_process,\n",
    "                                                                             prd_type,\n",
    "                                                                             meta['date'], \n",
    "                                                                             datetime.datetime.strptime(desc, '%Y%j').date().strftime('%Y-%m-%d'))\n",
    "\n",
    "            metadata = dict()\n",
    "\n",
    "            metadata['identifier'] = '_'.join([output_name, tile])\n",
    "            metadata['startdate'] = datetime.datetime.strptime(desc, '%Y%j').date().strftime('%Y-%m-%dT00:00:00Z')\n",
    "            metadata['enddate'] = datetime.datetime.strptime(desc, '%Y%j').date().strftime('%Y-%m-%dT23:59:59Z')\n",
    "            metadata['product_type'] = 'S2_{}_{}'.format(band_to_process, 'ORI' if not 'band_is_interpolated' in meta.keys() else 'SYN' if meta['band_is_interpolated'] == 'True' else 'NAT')\n",
    "            metadata['wkt'] = get_raster_wkt(translated_tif)\n",
    "\n",
    "            eop_xml = '{}.xml'.format(output_name)\n",
    "            with open(eop_xml, 'wb') as file:\n",
    "                file.write('<?xml version=\"1.0\" encoding=\"UTF-8\"?>\\n')\n",
    "                file.write(create_metadata(metadata))\n",
    "\n",
    "            with open('{}.properties'.format(output_name), 'wb') as file:\n",
    "                file.write('title={}\\n'.format(title))\n",
    "\n",
    "        \n",
    "        \n",
    "    for file in (local_paths + [local_vrt]):\n",
    "        \n",
    "        os.remove(file)"
   ]
  },
  {
   "cell_type": "code",
   "execution_count": 94,
   "metadata": {},
   "outputs": [
    {
     "name": "stdout",
     "output_type": "stream",
     "text": [
      "yes\n"
     ]
    }
   ],
   "source": [
    "a = dict()\n",
    "a['b'] = ''\n",
    "if 'b' in a.keys():\n",
    "    print 'yes'"
   ]
  },
  {
   "cell_type": "code",
   "execution_count": 75,
   "metadata": {},
   "outputs": [
    {
     "name": "stdout",
     "output_type": "stream",
     "text": [
      "B01\n",
      "B01\n",
      "hdfs://sb-10-150-0-21.better.terradue.int:8020/ciop/run/ewf-wfp-02-03-01/0000000-191030000011463-oozie-oozi-W/subtile/data/B01_tile_0_0.pickle.tif\n",
      "B01\n",
      "hdfs://sb-10-150-0-21.better.terradue.int:8020/ciop/run/ewf-wfp-02-03-01/0000000-191030000011463-oozie-oozi-W/subtile/data/B01_tile_0_1.pickle.tif\n",
      "original_B01\n",
      "original_B01\n",
      "hdfs://sb-10-150-0-21.better.terradue.int:8020/ciop/run/ewf-wfp-02-03-01/0000000-191030000011463-oozie-oozi-W/subtile/data/original_B01_tile_0_0.pickle.tif\n",
      "original_B01\n",
      "hdfs://sb-10-150-0-21.better.terradue.int:8020/ciop/run/ewf-wfp-02-03-01/0000000-191030000011463-oozie-oozi-W/subtile/data/original_B01_tile_0_1.pickle.tif\n",
      "s\n",
      "s\n",
      "hdfs://sb-10-150-0-21.better.terradue.int:8020/ciop/run/ewf-wfp-02-03-01/0000000-191030000011463-oozie-oozi-W/subtile/data/s_B01_tile_0_0.pickle.tif\n",
      "s\n",
      "hdfs://sb-10-150-0-21.better.terradue.int:8020/ciop/run/ewf-wfp-02-03-01/0000000-191030000011463-oozie-oozi-W/subtile/data/s_B01_tile_0_1.pickle.tif\n"
     ]
    }
   ],
   "source": [
    "    gdal.Translate(translated_tif,\n",
    "                       local_vrt)\n",
    "    \n",
    "      \n",
    "    src_ds = gdal.Open(local_paths[0])\n",
    "    ds = gdal.Open(translated_tif,  gdal.OF_UPDATE)\n",
    "\n",
    "    bands = []\n",
    "\n",
    "    for index in range(src_ds.RasterCount):\n",
    "       \n",
    "        bands.append(src_ds.GetRasterBand(index+1).GetDescription())\n",
    "        ds.GetRasterBand(index+1).SetDescription(src_ds.GetRasterBand(index+1).GetDescription())\n",
    "\n",
    "    ds.FlushCache()\n",
    "    \n",
    "    for file in (local_paths + [local_vrt]):\n",
    "        \n",
    "        os.remove(file)\n",
    "    \n",
    "    if bands[0] == '':\n",
    "        results[output_type] = {'file': translated_tif}\n",
    "    else:                                                           \n",
    "        shutil.move(translated_tif, '{}_{}_{}.tif'.format(output_type, bands[0], bands[-1]))\n",
    "    \n",
    "        results[output_type] = {'file': '{}_{}_{}.tif'.format(output_type, bands[0], bands[-1]),\n",
    "                           'min_julian': bands[0],\n",
    "                           'max_julian': bands[-1]}"
   ]
  },
  {
   "cell_type": "code",
   "execution_count": 76,
   "metadata": {},
   "outputs": [
    {
     "data": {
      "text/plain": [
       "{'B01': {'file': 'B01_2019045_2019150.tif',\n",
       "  'max_julian': '2019150',\n",
       "  'min_julian': '2019045'},\n",
       " 'original_B01': {'file': 'original_B01_2019045_2019150.tif',\n",
       "  'max_julian': '2019150',\n",
       "  'min_julian': '2019045'},\n",
       " 's': {'file': 's.tif'}}"
      ]
     },
     "execution_count": 76,
     "metadata": {},
     "output_type": "execute_result"
    }
   ],
   "source": [
    "results"
   ]
  },
  {
   "cell_type": "code",
   "execution_count": 97,
   "metadata": {},
   "outputs": [],
   "source": [
    "def create_metadata(metadata):\n",
    "\n",
    "    namespaces = dict()\n",
    "\n",
    "    namespaces['opt'] = 'http://www.opengis.net/opt/2.1'\n",
    "    namespaces['om']  = 'http://www.opengis.net/om/2.0'\n",
    "    namespaces['gml'] = 'http://www.opengis.net/gml/3.2'\n",
    "    namespaces['eop'] = 'http://www.opengis.net/eop/2.1'\n",
    "    namespaces['sar'] = 'http://www.opengis.net/sar/2.1'\n",
    "    namespaces['ssp'] = 'http://www.opengis.net/ssp/2.1'\n",
    "    \n",
    "    \n",
    "    for key, value in namespaces.items():\n",
    "        etree.register_namespace(key, value)\n",
    "   \n",
    "    root = etree.Element('{{}}EarthObservation'.format(namespaces['ssp']))\n",
    "\n",
    "    # Time\n",
    "    phenomenon_time = etree.SubElement(root, '{{{}}}phenomenonTime'.format(namespaces['om']))\n",
    "    time_period = etree.SubElement(phenomenon_time, '{{{}}}TimePeriod'.format(namespaces['gml']))\n",
    "    begin_position = etree.SubElement(time_period, '{{{}}}beginPosition'.format(namespaces['gml']))\n",
    "    end_position = etree.SubElement(time_period, '{{{}}}endPosition'.format(namespaces['gml']))\n",
    "    \n",
    "    feature_of_interest = etree.SubElement(root, '{{{}}}featureOfInterest'.format(namespaces['om']))\n",
    "    footprint = etree.SubElement(feature_of_interest, '{{{}}}Footprint'.format(namespaces['ssp']))\n",
    "    multi_extentOf = etree.SubElement(footprint, '{{{}}}multiExtentOf'.format(namespaces['ssp']))\n",
    "    multi_surface = etree.SubElement(multi_extentOf, '{{{}}}MultiSurface'.format(namespaces['gml']))\n",
    "    surface_members = etree.SubElement(multi_surface, '{{{}}}surfaceMembers'.format(namespaces['gml']))\n",
    "    polygon = etree.SubElement(surface_members, '{{{}}}Polygon'.format(namespaces['gml']))\n",
    "    exterior = etree.SubElement(polygon, '{{{}}}exterior'.format(namespaces['gml']))\n",
    "    linear_ring = etree.SubElement(exterior, '{{{}}}LinearRing'.format(namespaces['gml']))\n",
    "    poslist = etree.SubElement(linear_ring, '{{{}}}posList'.format(namespaces['gml']))\n",
    "\n",
    "    # Metadata property\n",
    "    metadata_property = etree.SubElement(root, '{{{}}}metaDataProperty'.format(namespaces['eop']))\n",
    "    earth_observation_metadata = etree.SubElement(metadata_property, '{{{}}}EarthObservationMetaData'.format(namespaces['eop']))\n",
    "    identifier = etree.SubElement(earth_observation_metadata, '{{{}}}identifier'.format(namespaces['eop']))\n",
    "    product_type = etree.SubElement(earth_observation_metadata, '{{{}}}productType'.format(namespaces['eop']))\n",
    "    \n",
    "    \n",
    "    begin_position.text = metadata['startdate']\n",
    "    end_position.text = metadata['enddate']\n",
    "   \n",
    "    coords = np.asarray([t[::-1] for t in list(loads(metadata['wkt']).exterior.coords)]).tolist()\n",
    " \n",
    "    pos_list = ''\n",
    "    for elem in coords:\n",
    "        pos_list += ' '.join(str(e) for e in elem) + ' '   \n",
    "\n",
    "    poslist.attrib['count'] = str(len(coords))\n",
    "    poslist.text = pos_list\n",
    "    \n",
    "    \n",
    "    identifier.text = metadata['identifier'] \n",
    "    product_type.text = metadata['product_type'] \n",
    "    \n",
    "    return etree.tostring(root, pretty_print=True)\n"
   ]
  },
  {
   "cell_type": "code",
   "execution_count": 73,
   "metadata": {},
   "outputs": [
    {
     "name": "stdout",
     "output_type": "stream",
     "text": [
      "B01\n",
      "0\n",
      "{}\n"
     ]
    },
    {
     "name": "stderr",
     "output_type": "stream",
     "text": [
      "reporter:status:2019-10-31T19:43:05.954242 [INFO   ] [user process] key: B01\n",
      "2019-10-31T19:43:05.954242 [INFO   ] [user process] key: B01\n",
      "reporter:status:2019-10-31T19:43:05.954391 [INFO   ] [user process] Opening B01 - B01_2019045_2019150.tif\n",
      "2019-10-31T19:43:05.954391 [INFO   ] [user process] Opening B01 - B01_2019045_2019150.tif\n"
     ]
    },
    {
     "ename": "KeyError",
     "evalue": "'band_is_interpolated'",
     "output_type": "error",
     "traceback": [
      "\u001b[0;31m\u001b[0m",
      "\u001b[0;31mKeyError\u001b[0mTraceback (most recent call last)",
      "\u001b[0;32m<ipython-input-73-54223a5c74ff>\u001b[0m in \u001b[0;36m<module>\u001b[0;34m()\u001b[0m\n\u001b[1;32m     72\u001b[0m                 \u001b[0;32melse\u001b[0m\u001b[0;34m:\u001b[0m\u001b[0;34m\u001b[0m\u001b[0m\n\u001b[1;32m     73\u001b[0m \u001b[0;34m\u001b[0m\u001b[0m\n\u001b[0;32m---> 74\u001b[0;31m                     \u001b[0;32mif\u001b[0m \u001b[0mmeta\u001b[0m\u001b[0;34m[\u001b[0m\u001b[0;34m'band_is_interpolated'\u001b[0m\u001b[0;34m]\u001b[0m \u001b[0;34m==\u001b[0m \u001b[0;34m'True'\u001b[0m\u001b[0;34m:\u001b[0m\u001b[0;34m\u001b[0m\u001b[0m\n\u001b[0m\u001b[1;32m     75\u001b[0m \u001b[0;34m\u001b[0m\u001b[0m\n\u001b[1;32m     76\u001b[0m                         \u001b[0mprd_type\u001b[0m \u001b[0;34m=\u001b[0m \u001b[0;34m'SYN'\u001b[0m\u001b[0;34m\u001b[0m\u001b[0m\n",
      "\u001b[0;31mKeyError\u001b[0m: 'band_is_interpolated'"
     ]
    }
   ],
   "source": [
    "for key in results.keys():\n",
    "        print key\n",
    "        ciop.log('INFO', 'key: {}'.format(key))\n",
    "        if key == 's': \n",
    "\n",
    "            title = 'Sentinel-2 {} s factor from {} to {}'.format(band_to_process, results[band_to_process]['min_julian'], results[band_to_process]['max_julian'])\n",
    "\n",
    "            prd_type = 'S'\n",
    "\n",
    "            s_output_name = 'S2_{}_{}_J{}_J{}.tif'.format(band_to_process, prd_type, results[band_to_process]['min_julian'], results[band_to_process]['max_julian'])\n",
    "\n",
    "            src_ds = gdal.Open(results[key]['file'])\n",
    "\n",
    "            drv = gdal.GetDriverByName('GTiff')\n",
    "\n",
    "            ciop.log('INFO', 'Creating product {} type {}'.format(s_output_name, prd_type))\n",
    "\n",
    "            ds = drv.Create(s_output_name,\n",
    "                            src_ds.RasterXSize, \n",
    "                            src_ds.RasterYSize, \n",
    "                            src_ds.RasterCount, \n",
    "                            gdal.GDT_Float32)\n",
    "\n",
    "            ds.SetGeoTransform(src_ds.GetGeoTransform())\n",
    "            ds.SetProjection(src_ds.GetProjection())\n",
    "\n",
    "            ds.GetRasterBand(1).WriteArray(src_ds.GetRasterBand(1).ReadAsArray(), 0, 0)\n",
    "            ds.FlushCache()\n",
    "            \n",
    "            metadata = dict()\n",
    "            \n",
    "            metadata['identifier'] = s_output_name.replace('.tif', '')\n",
    "            metadata['startdate'] = datetime.datetime.strptime(results[band_to_process]['min_julian'], '%Y%j').date().strftime('%Y-%m-%dT00:00:00Z')\n",
    "            metadata['enddate'] = datetime.datetime.strptime(results[band_to_process]['max_julian'], '%Y%j').date().strftime('%Y-%m-%dT23:59:59Z')\n",
    "            metadata['product_type'] = 'S2_S'\n",
    "            metadata['wkt'] =get_raster_wkt(s_output_name)\n",
    "            \n",
    "            eop_xml = s_output_name.replace('.tif', '.xml')\n",
    "            with open(eop_xml, 'wb') as file:\n",
    "                file.write('<?xml version=\"1.0\" encoding=\"UTF-8\"?>\\n')\n",
    "                file.write(create_metadata(metadata))\n",
    "            \n",
    "            with open(s_output_name.replace('.tif', '.properties'), 'wb') as file:\n",
    "                file.write('title={}\\n'.format(title))\n",
    "                \n",
    "            ciop.log('INFO', 'Publish {}'.format(s_output_name))\n",
    "            ciop.publish(os.path.join(ciop.tmp_dir, s_output_name), metalink=True)\n",
    "            ciop.publish(os.path.join(ciop.tmp_dir, s_output_name.replace('.tif', '.properties')), metalink=True)\n",
    "            ciop.publish(os.path.join(ciop.tmp_dir, s_output_name.replace('.xml', '.properties')), metalink=True)\n",
    "    \n",
    "        else:    \n",
    "\n",
    "            #####\n",
    "            bands = []\n",
    "            meta = []\n",
    "            ciop.log('INFO', 'Opening {} - {}'.format(key, results[key]['file']))\n",
    "\n",
    "            src_ds = gdal.Open(results[key]['file'])\n",
    "\n",
    "            for index in range(src_ds.RasterCount):\n",
    "\n",
    "                description = src_ds.GetRasterBand(index+1).GetDescription()\n",
    "\n",
    "                meta = src_ds.GetRasterBand(index+1).GetMetadata()\n",
    "                print index\n",
    "                print meta\n",
    "                if key == 'original_{}'.format(band_to_process):\n",
    "\n",
    "                    title = 'Sentinel-2 Original {}'.format(band_to_process)\n",
    "                    prd_type = 'ORI'\n",
    "\n",
    "                else:\n",
    "\n",
    "                    if meta['band_is_interpolated'] == 'True':\n",
    "\n",
    "                        prd_type = 'SYN'\n",
    "                        title = 'Sentinel-2 {} {} Julian day {}, date {}'.format(band_to_process, 'synthetic', description, datetime.datetime.strptime(description, '%Y%j').date().strftime('%Y-%m-%d'))\n",
    "                    else:\n",
    "\n",
    "                        prd_type = 'NAT'\n",
    "                        title = 'Sentinel-2 {} {} Julian day {}, date {}'.format(band_to_process, 'native', description, datetime.datetime.strptime(description, '%Y%j').date().strftime('%Y-%m-%d'))\n",
    "\n",
    "                daily_output_name = 'S2_{}_{}_J{}_{}.tif'.format(band_to_process, prd_type, description, meta['date'])\n",
    "\n",
    "                drv = gdal.GetDriverByName('GTiff')\n",
    "\n",
    "                ciop.log('INFO', 'Creating product {} type {}'.format(daily_output_name, prd_type))\n",
    "\n",
    "                ds = drv.Create(daily_output_name, \n",
    "                                    src_ds.RasterXSize, \n",
    "                                src_ds.RasterYSize, \n",
    "                                    src_ds.RasterCount, \n",
    "                                    gdal.GDT_Float32)\n",
    "\n",
    "                ds.SetGeoTransform(src_ds.GetGeoTransform())\n",
    "                ds.SetProjection(src_ds.GetProjection())\n",
    "\n",
    "                #a = src_ds.GetRasterBand(index+1)\n",
    "                ds.GetRasterBand(1).WriteArray(src_ds.GetRasterBand(index+1).ReadAsArray(), 0, 0)\n",
    "                ds.FlushCache()\n",
    "\n",
    "                \n",
    "                metadata = dict()\n",
    "            \n",
    "                metadata['identifier'] = daily_output_name.replace('.tif', '')\n",
    "                metadata['startdate'] = datetime.datetime.strptime(description, '%Y%j').date().strftime('%Y-%m-%dT00:00:00Z')\n",
    "                metadata['enddate'] = datetime.datetime.strptime(description, '%Y%j').date().strftime('%Y-%m-%dT23:59:59Z')\n",
    "                metadata['product_type'] = 'S2_{}_{}'.format(band_to_process, prd_type)\n",
    "                metadata['wkt'] = get_raster_wkt(daily_output_name)\n",
    "\n",
    "                eop_xml = daily_output_name.replace('.tif', '.xml')\n",
    "                with open(eop_xml, 'wb') as file:\n",
    "                    file.write('<?xml version=\"1.0\" encoding=\"UTF-8\"?>\\n')\n",
    "                    file.write(create_metadata(metadata))\n",
    "                \n",
    "                with open(daily_output_name.replace('.tif', '.properties'), 'wb') as file:\n",
    "                    file.write('title={}\\n'.format(title))\n",
    "               #     file.write('date={}/{}\\n'.format(datetime.datetime.strptime(description, '%Y%j').date().strftime('%Y-%m-%dT00:00:00Z'),\n",
    "               #                                      datetime.datetime.strptime(description, '%Y%j').date().strftime('%Y-%m-%dT23:59:59Z')))\n",
    "               #     file.write('geometry={}'.format(get_raster_wkt(daily_output_name)))\n",
    "\n",
    "                ciop.log('INFO', 'Publish {}'.format(daily_output_name))\n"
   ]
  },
  {
   "cell_type": "code",
   "execution_count": null,
   "metadata": {},
   "outputs": [],
   "source": []
  },
  {
   "cell_type": "code",
   "execution_count": null,
   "metadata": {},
   "outputs": [],
   "source": []
  },
  {
   "cell_type": "code",
   "execution_count": null,
   "metadata": {},
   "outputs": [],
   "source": []
  },
  {
   "cell_type": "code",
   "execution_count": null,
   "metadata": {},
   "outputs": [],
   "source": []
  },
  {
   "cell_type": "code",
   "execution_count": null,
   "metadata": {},
   "outputs": [],
   "source": []
  },
  {
   "cell_type": "code",
   "execution_count": null,
   "metadata": {},
   "outputs": [],
   "source": []
  },
  {
   "cell_type": "code",
   "execution_count": 58,
   "metadata": {},
   "outputs": [
    {
     "data": {
      "text/plain": [
       "['B01', 's', 'original_B01']"
      ]
     },
     "execution_count": 58,
     "metadata": {},
     "output_type": "execute_result"
    }
   ],
   "source": [
    "results.keys()"
   ]
  },
  {
   "cell_type": "code",
   "execution_count": 61,
   "metadata": {},
   "outputs": [],
   "source": [
    "import datetime\n",
    "#datetime.datetime.strptime(results['ndvi']['max_julian'], '%Y%j').date().strftime('%Y-%m-%dT23:59:59Z')\n",
    "#datetime.date(2016, 8, 21)"
   ]
  },
  {
   "cell_type": "code",
   "execution_count": 68,
   "metadata": {},
   "outputs": [],
   "source": [
    "for key in results.keys():\n",
    "    \n",
    "    if key == band_to_process: title = 'Sentinel-2 Smoothed NDVI'\n",
    "    if key == 'original_{}'.format(band_to_process): title = 'Sentinel-2 Original NDVI'\n",
    "    if key == 's_{}'.format(band_to_process): title = 'Sentinel-2 Smoothed NDVI s factor'\n",
    "    \n",
    "    with open(results[key]['file'].replace('.tif', '.properties'), 'wb') as file:\n",
    "        file.write('title={0}\\n'.format(title))\n",
    "        file.write('date={0}\\n'.format('/'.join([datetime.datetime.strptime(results[band_to_process]['min_julian'], '%Y%j').date().strftime('%Y-%m-%dT00:00:00Z'),\n",
    "                                                datetime.datetime.strptime(results[band_to_process]['max_julian'], '%Y%j').date().strftime('%Y-%m-%dT23:59:59Z')])))\n",
    "        file.write('geometry={0}'.format(get_raster_wkt(results[band_to_process]['file'])))"
   ]
  },
  {
   "cell_type": "code",
   "execution_count": null,
   "metadata": {},
   "outputs": [],
   "source": []
  },
  {
   "cell_type": "code",
   "execution_count": 92,
   "metadata": {},
   "outputs": [],
   "source": [
    "src_ds = gdal.Open('/workspace/ewf-wfp-02-03-01/src/main/app-resources/merge/./ndvi_tile_0_0.pickle.tif')\n",
    "ds = gdal.Open('ndvi.tif',  gdal.OF_UPDATE)\n",
    "\n",
    "bands = dict()\n",
    "\n",
    "for index in range(src_ds.RasterCount):\n",
    "\n",
    "    ds.GetRasterBand(index+1).SetDescription(src_ds.GetRasterBand(index+1).GetDescription())\n",
    "\n",
    "ds.FlushCache()"
   ]
  },
  {
   "cell_type": "code",
   "execution_count": 134,
   "metadata": {},
   "outputs": [],
   "source": [
    "def get_raster_wkt(raster):\n",
    "    src = gdal.Open(raster)\n",
    "    ulx, xres, xskew, uly, yskew, yres  = src.GetGeoTransform()\n",
    "    lrx = ulx + (src.RasterXSize * xres)\n",
    "    lry = uly + (src.RasterYSize * yres)\n",
    "\n",
    "    from osgeo import ogr\n",
    "    from osgeo import osr\n",
    "\n",
    "    # Setup the source projection - you can also import from epsg, proj4...\n",
    "    source = osr.SpatialReference()\n",
    "    source.ImportFromWkt(src.GetProjection())\n",
    "\n",
    "    # The target projection\n",
    "    target = osr.SpatialReference()\n",
    "    target.ImportFromEPSG(4326)\n",
    "\n",
    "    # Create the transform - this can be used repeatedly\n",
    "    transform = osr.CoordinateTransformation(source, target)\n",
    "\n",
    "    \n",
    "\n",
    "    return box(transform.TransformPoint(ulx, lry)[0], \n",
    "       transform.TransformPoint(ulx, lry)[1],\n",
    "       transform.TransformPoint(lrx, uly)[0],\n",
    "       transform.TransformPoint(lrx, uly)[1]).wkt\n"
   ]
  },
  {
   "cell_type": "code",
   "execution_count": 87,
   "metadata": {},
   "outputs": [
    {
     "data": {
      "text/plain": [
       "19"
      ]
     },
     "execution_count": 87,
     "metadata": {},
     "output_type": "execute_result"
    }
   ],
   "source": [
    "src_ds.RasterCount"
   ]
  },
  {
   "cell_type": "code",
   "execution_count": 127,
   "metadata": {},
   "outputs": [
    {
     "name": "stdout",
     "output_type": "stream",
     "text": [
      "[600000.0, 978060.0, 605490.0, 1000020.0]\n"
     ]
    }
   ],
   "source": [
    "geoTransform = src.GetGeoTransform()\n",
    "minx = geoTransform[0]\n",
    "maxy = geoTransform[3]\n",
    "maxx = minx + geoTransform[1] * src.RasterXSize\n",
    "miny = maxy + geoTransform[5] * src.RasterYSize\n",
    "print [minx, miny, maxx, maxy]\n",
    "data = None"
   ]
  },
  {
   "cell_type": "code",
   "execution_count": 90,
   "metadata": {},
   "outputs": [
    {
     "data": {
      "text/plain": [
       "{'2019045': 0,\n",
       " '2019050': 1,\n",
       " '2019055': 2,\n",
       " '2019070': 3,\n",
       " '2019075': 4,\n",
       " '2019080': 5,\n",
       " '2019085': 6,\n",
       " '2019090': 7,\n",
       " '2019095': 8,\n",
       " '2019100': 9,\n",
       " '2019105': 10,\n",
       " '2019110': 11,\n",
       " '2019115': 12,\n",
       " '2019120': 13,\n",
       " '2019125': 14,\n",
       " '2019130': 15,\n",
       " '2019135': 16,\n",
       " '2019140': 17,\n",
       " '2019150': 18}"
      ]
     },
     "execution_count": 90,
     "metadata": {},
     "output_type": "execute_result"
    }
   ],
   "source": [
    "bands"
   ]
  },
  {
   "cell_type": "code",
   "execution_count": null,
   "metadata": {},
   "outputs": [],
   "source": [
    "\n",
    "\n",
    "ds.GetRasterBand(index + 1).SetDescription(dates.values[index])\n",
    "\n",
    "        ds.FlushCache()"
   ]
  },
  {
   "cell_type": "code",
   "execution_count": null,
   "metadata": {},
   "outputs": [],
   "source": []
  },
  {
   "cell_type": "code",
   "execution_count": 56,
   "metadata": {},
   "outputs": [
    {
     "name": "stdout",
     "output_type": "stream",
     "text": [
      "/workspace/ewf-wfp-02-03-01/src/main/app-resources/merge/./ndvi_tile_0_0.pickle.tif\n",
      "/workspace/ewf-wfp-02-03-01/src/main/app-resources/merge/./ndvi_tile_0_1.pickle.tif\n",
      "/workspace/ewf-wfp-02-03-01/src/main/app-resources/merge/./ndvi_tile_0_2.pickle.tif\n",
      "/workspace/ewf-wfp-02-03-01/src/main/app-resources/merge/./ndvi_tile_0_3.pickle.tif\n",
      "temp_vrt.xml\n"
     ]
    }
   ],
   "source": [
    "for file in (local_paths + [local_vrt]):\n",
    "    \n",
    "    print file"
   ]
  },
  {
   "cell_type": "code",
   "execution_count": 46,
   "metadata": {},
   "outputs": [
    {
     "name": "stdout",
     "output_type": "stream",
     "text": [
      "ndvi\n",
      "hdfs://sb-10-150-0-21.better.terradue.int:8020/ciop/run/ewf-wfp-02-03-01/0000025-190909171543351-oozie-oozi-W/subtile/data/ndvi_tile_0_0.pickle.tif\n",
      "ndvi\n",
      "hdfs://sb-10-150-0-21.better.terradue.int:8020/ciop/run/ewf-wfp-02-03-01/0000025-190909171543351-oozie-oozi-W/subtile/data/ndvi_tile_0_1.pickle.tif\n",
      "ndvi\n",
      "hdfs://sb-10-150-0-21.better.terradue.int:8020/ciop/run/ewf-wfp-02-03-01/0000025-190909171543351-oozie-oozi-W/subtile/data/ndvi_tile_0_2.pickle.tif\n",
      "ndvi\n",
      "hdfs://sb-10-150-0-21.better.terradue.int:8020/ciop/run/ewf-wfp-02-03-01/0000025-190909171543351-oozie-oozi-W/subtile/data/ndvi_tile_0_3.pickle.tif\n"
     ]
    }
   ],
   "source": [
    "\n",
    "\n",
    "\n",
    "local_paths = [] \n",
    "\n",
    "for entry, row in df_references[df_references.output_type == 'ndvi'].iterrows():\n",
    "    print row.output_type\n",
    "    print row.enclosure\n",
    "    local_paths.append(ciop.copy(row.enclosure, '.'))"
   ]
  },
  {
   "cell_type": "code",
   "execution_count": 47,
   "metadata": {},
   "outputs": [
    {
     "data": {
      "text/plain": [
       "['/workspace/ewf-wfp-02-03-01/src/main/app-resources/merge/./ndvi_tile_0_0.pickle.tif',\n",
       " '/workspace/ewf-wfp-02-03-01/src/main/app-resources/merge/./ndvi_tile_0_1.pickle.tif',\n",
       " '/workspace/ewf-wfp-02-03-01/src/main/app-resources/merge/./ndvi_tile_0_2.pickle.tif',\n",
       " '/workspace/ewf-wfp-02-03-01/src/main/app-resources/merge/./ndvi_tile_0_3.pickle.tif']"
      ]
     },
     "execution_count": 47,
     "metadata": {},
     "output_type": "execute_result"
    }
   ],
   "source": [
    "local_paths"
   ]
  },
  {
   "cell_type": "code",
   "execution_count": 49,
   "metadata": {},
   "outputs": [],
   "source": [
    "import gdal"
   ]
  },
  {
   "cell_type": "code",
   "execution_count": 51,
   "metadata": {},
   "outputs": [],
   "source": [
    "local_vrt = 'temp_vrt.xml'\n",
    "\n",
    "ds = gdal.BuildVRT(local_vrt, local_paths)\n",
    "\n",
    "ds.FlushCache()\n"
   ]
  },
  {
   "cell_type": "code",
   "execution_count": 53,
   "metadata": {},
   "outputs": [],
   "source": [
    "translated_tif = 's_ndvi.tif'"
   ]
  },
  {
   "cell_type": "code",
   "execution_count": 54,
   "metadata": {},
   "outputs": [
    {
     "data": {
      "text/plain": [
       "<osgeo.gdal.Dataset; proxy of <Swig Object of type 'GDALDatasetShadow *' at 0x7f8aac830c30> >"
      ]
     },
     "execution_count": 54,
     "metadata": {},
     "output_type": "execute_result"
    }
   ],
   "source": [
    "gdal.Translate(translated_tif,\n",
    "                       local_vrt)\n"
   ]
  },
  {
   "cell_type": "code",
   "execution_count": 64,
   "metadata": {},
   "outputs": [
    {
     "name": "stdout",
     "output_type": "stream",
     "text": [
      "0\n",
      "1\n",
      "2\n"
     ]
    }
   ],
   "source": [
    "for index, row in df_references.iterrows():\n",
    "    \n",
    "   \n",
    "    if index >=3:\n",
    "        \n",
    "        \n",
    "        continue\n",
    "        \n",
    "    else:\n",
    "        print index"
   ]
  },
  {
   "cell_type": "code",
   "execution_count": 120,
   "metadata": {},
   "outputs": [],
   "source": [
    "title = 'S2A_MSIL2A_20190425T075611_N0211_R035_T36PXQ_20190425T112428.tif'"
   ]
  },
  {
   "cell_type": "code",
   "execution_count": 127,
   "metadata": {},
   "outputs": [
    {
     "data": {
      "text/plain": [
       "'T36PXQ'"
      ]
     },
     "execution_count": 127,
     "metadata": {},
     "output_type": "execute_result"
    }
   ],
   "source": [
    "tile_id = title[38:44]\n",
    "tile_id"
   ]
  },
  {
   "cell_type": "code",
   "execution_count": null,
   "metadata": {},
   "outputs": [],
   "source": []
  }
 ],
 "metadata": {
  "kernelspec": {
   "display_name": "env_ewf_wfp_02_03_01",
   "language": "python",
   "name": "env_ewf_wfp_02_03_01"
  },
  "language_info": {
   "codemirror_mode": {
    "name": "ipython",
    "version": 2
   },
   "file_extension": ".py",
   "mimetype": "text/x-python",
   "name": "python",
   "nbconvert_exporter": "python",
   "pygments_lexer": "ipython2",
   "version": "2.7.16"
  }
 },
 "nbformat": 4,
 "nbformat_minor": 2
}
